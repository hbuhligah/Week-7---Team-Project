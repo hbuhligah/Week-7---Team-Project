{
 "cells": [
  {
   "cell_type": "code",
   "execution_count": null,
   "metadata": {
    "id": "wv17SZOM3gLu"
   },
   "outputs": [
    {
     "name": "stdout",
     "output_type": "stream",
     "text": [
      "Requirement already satisfied: plotly in c:\\users\\buhli\\anaconda3\\lib\\site-packages (5.4.0)\n",
      "Requirement already satisfied: six in c:\\users\\buhli\\anaconda3\\lib\\site-packages (from plotly) (1.15.0)\n",
      "Requirement already satisfied: tenacity>=6.2.0 in c:\\users\\buhli\\anaconda3\\lib\\site-packages (from plotly) (8.0.1)\n"
     ]
    }
   ],
   "source": [
    "!pip install -U plotly\n",
    "!pip install -U scikit-learn"
   ]
  },
  {
   "cell_type": "markdown",
   "metadata": {
    "id": "qVD_MnJJ33d9"
   },
   "source": [
    "# Project Week 7 \n",
    "\n",
    "Group Number: 06\n",
    "\n",
    "Group Name: R.A.H\n",
    "\n",
    "Group Members:\n",
    "\n",
    "- Hussein Ali\n",
    "\n",
    "- Reem AlQhatani\n",
    "\n",
    "- Afrah AlHarbi\n",
    "\n",
    "- Hessah AlMatrudi\n",
    "\n",
    "- Ahmad AlGhazal"
   ]
  },
  {
   "cell_type": "markdown",
   "metadata": {
    "id": "uPPoWX5I4G7M"
   },
   "source": [
    "# LendingClub P2P Loan Analysis & Defalut Prediction\n",
    "\n",
    "## Introduction\n",
    "\n",
    "> `LendingClub` is a peer-to-peer lending company that specializes in providing loans to urban customers.\n",
    "\n",
    "## Problom Statment\n",
    "\n",
    "> The platform needs a solution that assesses and evaluates the loan's applicants whether they are likely to repay the loans fully or default.\n",
    "\n",
    "## Dataset \n",
    "\n",
    "> From Kaggle Website [link](https://www.kaggle.com/jeandedieunyandwi/lending-club-dataset)\n",
    "\n",
    "## Data Description \n",
    "\n",
    "<table border=\"1\" class=\"dataframe\">\n",
    "  <thead>\n",
    "    <tr style=\"text-align: right;\">\n",
    "      <th></th>\n",
    "      <th>LoanStatNew</th>\n",
    "      <th>Description</th>\n",
    "    </tr>\n",
    "  </thead>\n",
    "  <tbody>\n",
    "    <tr>\n",
    "      <th>0</th>\n",
    "      <td>loan_amnt</td>\n",
    "      <td>The listed amount of the loan applied for by the borrower. If at some point in time, the credit department reduces the loan amount, then it will be reflected in this value.</td>\n",
    "    </tr>\n",
    "    <tr>\n",
    "      <th>1</th>\n",
    "      <td>term</td>\n",
    "      <td>The number of payments on the loan. Values are in months and can be either 36 or 60.</td>\n",
    "    </tr>\n",
    "    <tr>\n",
    "      <th>2</th>\n",
    "      <td>int_rate</td>\n",
    "      <td>Interest Rate on the loan</td>\n",
    "    </tr>\n",
    "    <tr>\n",
    "      <th>3</th>\n",
    "      <td>installment</td>\n",
    "      <td>The monthly payment owed by the borrower if the loan originates.</td>\n",
    "    </tr>\n",
    "    <tr>\n",
    "      <th>4</th>\n",
    "      <td>grade</td>\n",
    "      <td>LC assigned loan grade</td>\n",
    "    </tr>\n",
    "    <tr>\n",
    "      <th>5</th>\n",
    "      <td>sub_grade</td>\n",
    "      <td>LC assigned loan subgrade</td>\n",
    "    </tr>\n",
    "    <tr>\n",
    "      <th>6</th>\n",
    "      <td>emp_title</td>\n",
    "      <td>The job title supplied by the Borrower when applying for the loan.*</td>\n",
    "    </tr>\n",
    "    <tr>\n",
    "      <th>7</th>\n",
    "      <td>emp_length</td>\n",
    "      <td>Employment length in years. Possible values are between 0 and 10 where 0 means less than one year and 10 means ten or more years.</td>\n",
    "    </tr>\n",
    "    <tr>\n",
    "      <th>8</th>\n",
    "      <td>home_ownership</td>\n",
    "      <td>The home ownership status provided by the borrower during registration or obtained from the credit report. Our values are: RENT, OWN, MORTGAGE, OTHER</td>\n",
    "    </tr>\n",
    "    <tr>\n",
    "      <th>9</th>\n",
    "      <td>annual_inc</td>\n",
    "      <td>The self-reported annual income provided by the borrower during registration.</td>\n",
    "    </tr>\n",
    "    <tr>\n",
    "      <th>10</th>\n",
    "      <td>verification_status</td>\n",
    "      <td>Indicates if income was verified by LC, not verified, or if the income source was verified</td>\n",
    "    </tr>\n",
    "    <tr>\n",
    "      <th>11</th>\n",
    "      <td>issue_d</td>\n",
    "      <td>The month which the loan was funded</td>\n",
    "    </tr>\n",
    "    <tr>\n",
    "      <th>12</th>\n",
    "      <td>loan_status</td>\n",
    "      <td>Current status of the loan</td>\n",
    "    </tr>\n",
    "    <tr>\n",
    "      <th>13</th>\n",
    "      <td>purpose</td>\n",
    "      <td>A category provided by the borrower for the loan request.</td>\n",
    "    </tr>\n",
    "    <tr>\n",
    "      <th>14</th>\n",
    "      <td>title</td>\n",
    "      <td>The loan title provided by the borrower</td>\n",
    "    </tr>\n",
    "    <tr>\n",
    "      <th>15</th>\n",
    "      <td>zip_code</td>\n",
    "      <td>The first 3 numbers of the zip code provided by the borrower in the loan application.</td>\n",
    "    </tr>\n",
    "    <tr>\n",
    "      <th>16</th>\n",
    "      <td>addr_state</td>\n",
    "      <td>The state provided by the borrower in the loan application</td>\n",
    "    </tr>\n",
    "    <tr>\n",
    "      <th>17</th>\n",
    "      <td>dti</td>\n",
    "      <td>A ratio calculated using the borrower’s total monthly debt payments on the total debt obligations, excluding mortgage and the requested LC loan, divided by the borrower’s self-reported monthly income.</td>\n",
    "    </tr>\n",
    "    <tr>\n",
    "      <th>18</th>\n",
    "      <td>earliest_cr_line</td>\n",
    "      <td>The month the borrower's earliest reported credit line was opened</td>\n",
    "    </tr>\n",
    "    <tr>\n",
    "      <th>19</th>\n",
    "      <td>open_acc</td>\n",
    "      <td>The number of open credit lines in the borrower's credit file.</td>\n",
    "    </tr>\n",
    "    <tr>\n",
    "      <th>20</th>\n",
    "      <td>pub_rec</td>\n",
    "      <td>Number of derogatory public records</td>\n",
    "    </tr>\n",
    "    <tr>\n",
    "      <th>21</th>\n",
    "      <td>revol_bal</td>\n",
    "      <td>Total credit revolving balance</td>\n",
    "    </tr>\n",
    "    <tr>\n",
    "      <th>22</th>\n",
    "      <td>revol_util</td>\n",
    "      <td>Revolving line utilization rate, or the amount of credit the borrower is using relative to all available revolving credit.</td>\n",
    "    </tr>\n",
    "    <tr>\n",
    "      <th>23</th>\n",
    "      <td>total_acc</td>\n",
    "      <td>The total number of credit lines currently in the borrower's credit file</td>\n",
    "    </tr>\n",
    "    <tr>\n",
    "      <th>24</th>\n",
    "      <td>initial_list_status</td>\n",
    "      <td>The initial listing status of the loan. Possible values are – W, F</td>\n",
    "    </tr>\n",
    "    <tr>\n",
    "      <th>25</th>\n",
    "      <td>application_type</td>\n",
    "      <td>Indicates whether the loan is an individual application or a joint application with two co-borrowers</td>\n",
    "    </tr>\n",
    "    <tr>\n",
    "      <th>26</th>\n",
    "      <td>mort_acc</td>\n",
    "      <td>Number of mortgage accounts.</td>\n",
    "    </tr>\n",
    "    <tr>\n",
    "      <th>27</th>\n",
    "      <td>pub_rec_bankruptcies</td>\n",
    "      <td>Number of public record bankruptcies</td>\n",
    "    </tr>\n",
    "  </tbody>\n",
    "</table>\n"
   ]
  },
  {
   "cell_type": "markdown",
   "metadata": {
    "id": "IHulcCRr5ObD"
   },
   "source": [
    "# Get Data"
   ]
  },
  {
   "cell_type": "code",
   "execution_count": null,
   "metadata": {
    "id": "m7nuENlq3sQD"
   },
   "outputs": [],
   "source": [
    "import numpy as np\n",
    "import pandas as pd\n",
    "import seaborn as sns\n",
    "import matplotlib.pyplot as plt\n",
    "\n",
    "import plotly.graph_objects as go\n",
    "import plotly.express as px\n",
    "\n",
    "from plotly.subplots import make_subplots"
   ]
  },
  {
   "cell_type": "code",
   "execution_count": null,
   "metadata": {
    "id": "EruP0S_H52sL"
   },
   "outputs": [],
   "source": [
    "pd.options.display.max_columns = None\n",
    "pd.options.display.max_rows = 100"
   ]
  },
  {
   "cell_type": "code",
   "execution_count": null,
   "metadata": {
    "id": "IVPYJL8-58ws"
   },
   "outputs": [],
   "source": [
    "path = \"lending_club_loan_two.csv\"\n",
    "df = pd.read_csv(path)\n",
    "df.head()"
   ]
  },
  {
   "cell_type": "markdown",
   "metadata": {
    "id": "KquW34cj6EXr"
   },
   "source": [
    "# Exploratory Data Analysis"
   ]
  },
  {
   "cell_type": "code",
   "execution_count": null,
   "metadata": {
    "id": "acdo-DUh6Ar-"
   },
   "outputs": [],
   "source": [
    "df.info()"
   ]
  },
  {
   "cell_type": "code",
   "execution_count": null,
   "metadata": {
    "id": "3aK56JO_6ctf"
   },
   "outputs": [],
   "source": [
    "fig = px.pie(data_frame=df,\n",
    "             names=\"loan_status\",\n",
    "             title=\"Loan Status\")\n",
    "fig.show()"
   ]
  },
  {
   "cell_type": "code",
   "execution_count": null,
   "metadata": {
    "id": "IjvLy0iQ9NVp"
   },
   "outputs": [],
   "source": [
    "# ['stack', 'group', 'overlay', 'relative']\n",
    "fig = px.histogram(data_frame=df,\n",
    "                   x=\"loan_amnt\",\n",
    "                   color=\"loan_status\",\n",
    "                   nbins=30,\n",
    "                   marginal=\"box\",\n",
    "                   barmode=\"group\",\n",
    "                   histnorm=\"percent\",\n",
    "                   title=\"Loan Amount($) Distribution\",\n",
    "                   labels={\"loan_amnt\": \"Loan Amount\",\n",
    "                          \"loan_status\": \" \"}\n",
    "                   )\n",
    "fig.show()"
   ]
  },
  {
   "cell_type": "code",
   "execution_count": null,
   "metadata": {
    "id": "217VPJ399pLL"
   },
   "outputs": [],
   "source": [
    "fig = px.histogram(data_frame=df.query(\"annual_inc < 200_000\"),\n",
    "                   x=\"annual_inc\",\n",
    "                   color=\"loan_status\",\n",
    "                   nbins=50,\n",
    "                   marginal=\"box\",\n",
    "                   barmode=\"group\",\n",
    "                   histnorm=\"percent\",\n",
    "                   title=\"Annual Income($) Distribution\",\n",
    "                   labels={\"annual_inc\": \"Annual Income($)\",\n",
    "                          \"loan_status\": \" \"}\n",
    "                   )\n",
    "fig.show()"
   ]
  },
  {
   "cell_type": "code",
   "execution_count": null,
   "metadata": {
    "id": "aC0WOBx--e7_"
   },
   "outputs": [],
   "source": [
    "fig = px.sunburst(data_frame=df,\n",
    "                  path=[\"loan_status\" ,\"grade\", \"sub_grade\"],\n",
    "                  color=\"int_rate\",\n",
    "                  color_continuous_scale=\"RdBu_r\",\n",
    "                  title=\"LC Loan Grade\",\n",
    "                  labels={\"int_rate\": \"Interest Rate %\"}\n",
    "                   )\n",
    "fig.update_traces(textinfo=\"label+percent entry\")\n",
    "fig.show()"
   ]
  },
  {
   "cell_type": "code",
   "execution_count": null,
   "metadata": {
    "id": "GB16Gh2B-rmd"
   },
   "outputs": [],
   "source": [
    "fig = px.histogram(data_frame=df.sort_values(by=\"sub_grade\"),\n",
    "                   x=\"sub_grade\",\n",
    "                   color=\"loan_status\",\n",
    "                   marginal=\"box\",\n",
    "                   histnorm=\"percent\",\n",
    "                   barmode=\"group\",\n",
    "                   title=\"LC Loan Grade & Sub-Grade Distribuation\",\n",
    "                   labels={\"int_rate\": \"Interest Rate %\",\n",
    "                           \"sub_grade\": \"LC Sub-Grade\"}\n",
    "                   )\n",
    "fig.show()"
   ]
  },
  {
   "cell_type": "code",
   "execution_count": null,
   "metadata": {
    "id": "K2f02UakA2fW"
   },
   "outputs": [],
   "source": [
    "# dti = monthly debt / monthly income\n",
    "fig = px.histogram(data_frame=df.query(\"dti < 50\"),\n",
    "                   x=\"dti\",\n",
    "                   color=\"loan_status\",\n",
    "                   #nbins=50,\n",
    "                   marginal=\"box\",\n",
    "                   barmode=\"group\",\n",
    "                   histnorm=\"percent\",\n",
    "                   title=\"DTI Ratio Distribuation\",\n",
    "                   labels={\"dti\": \"DTI Ratio\",\n",
    "                           \"loan_status\": \" \"}\n",
    "                   )\n",
    "fig.show()"
   ]
  },
  {
   "cell_type": "code",
   "execution_count": null,
   "metadata": {
    "id": "KaSh1tQZCTiV"
   },
   "outputs": [],
   "source": [
    "fig = px.histogram(data_frame=df.query(\"revol_util < 100\"),\n",
    "                   x=\"revol_util\",\n",
    "                   color=\"loan_status\",\n",
    "                   #nbins=50,\n",
    "                   marginal=\"box\",\n",
    "                   barmode=\"group\",\n",
    "                   histnorm=\"percent\",\n",
    "                   title=\"Revolving Debt Utilization Distribuation\",\n",
    "                   labels={\"revol_util\": \"Revolving Debt Utilization\",\n",
    "                           \"loan_status\": \" \"}\n",
    "                   )\n",
    "fig.show()"
   ]
  },
  {
   "cell_type": "code",
   "execution_count": null,
   "metadata": {
    "id": "smA7Ont_Imci"
   },
   "outputs": [],
   "source": [
    "fig, ax = plt.subplots(figsize=(15, 15))\n",
    "cmap = sns.diverging_palette(0, 230, 90, 60, as_cmap=True)\n",
    "sns.heatmap(data=df.corr(),\n",
    "            annot=True,\n",
    "            fmt=\".2f\", \n",
    "            linewidths=5,\n",
    "            cmap=cmap,\n",
    "            vmin=-1,\n",
    "            vmax=1, \n",
    "           cbar_kws={\"shrink\": .8},\n",
    "           square=True)\n",
    "ax.set_title(\"Correlation Matrix\")"
   ]
  },
  {
   "cell_type": "markdown",
   "metadata": {
    "id": "7eWiSB8tJe07"
   },
   "source": [
    "# Data Cleaning and Feature Extraction"
   ]
  },
  {
   "cell_type": "code",
   "execution_count": null,
   "metadata": {
    "id": "oTzqcfhCIzk4"
   },
   "outputs": [],
   "source": [
    "df.isna().sum() / len(df) * 100"
   ]
  },
  {
   "cell_type": "code",
   "execution_count": null,
   "metadata": {
    "id": "aDDhHCdTJxfk"
   },
   "outputs": [],
   "source": [
    "# Feature to drop\n",
    "df = df.drop(columns=[\"grade\", \"issue_d\", \"title\",])"
   ]
  },
  {
   "cell_type": "code",
   "execution_count": null,
   "metadata": {
    "id": "SPTZdskLZgdW"
   },
   "outputs": [],
   "source": [
    "labels = [\"Fully Paid\", \"Charged Off\"]\n",
    "# Encode the label\n",
    "# 0 - Fully Paid\n",
    "# 1 - Charged Off\n",
    "df[\"loan_status\"] = df[\"loan_status\"].replace({\"Charged Off\": 1, \"Fully Paid\": 0})"
   ]
  },
  {
   "cell_type": "code",
   "execution_count": null,
   "metadata": {
    "id": "sRQY8bxxKJ0K"
   },
   "outputs": [],
   "source": [
    "# Extract Address Zip Code & State from address\n",
    "df[\"zip_code\"] = df[\"address\"].str.split(\" \").apply(lambda x: x[-1])\n",
    "df[\"state\"] = df[\"address\"].str.split(\" \").apply(lambda x: x[-2])\n",
    "df = df.drop(columns=[\"address\"])"
   ]
  },
  {
   "cell_type": "code",
   "execution_count": null,
   "metadata": {
    "id": "VUI2xOkLMmFp"
   },
   "outputs": [],
   "source": [
    "# Get the year in earliest_cr_line\n",
    "df[\"earliest_cr_line\"] = pd.to_datetime(df[\"earliest_cr_line\"]).dt.year"
   ]
  },
  {
   "cell_type": "code",
   "execution_count": null,
   "metadata": {
    "id": "gU7wosStNuy0"
   },
   "outputs": [],
   "source": [
    "df.dtypes"
   ]
  },
  {
   "cell_type": "code",
   "execution_count": null,
   "metadata": {
    "id": "Y4CuTz79PAqQ"
   },
   "outputs": [],
   "source": [
    "from sklearn.preprocessing import OrdinalEncoder"
   ]
  },
  {
   "cell_type": "code",
   "execution_count": null,
   "metadata": {
    "id": "G_2IGbK-M11H"
   },
   "outputs": [],
   "source": [
    "# Encode Categorical Columns\n",
    "cat_cols = df.select_dtypes(include=object).columns \n",
    "encoder = OrdinalEncoder()\n",
    "df[cat_cols] = encoder.fit_transform(df[cat_cols])\n",
    "df.dtypes"
   ]
  },
  {
   "cell_type": "code",
   "execution_count": null,
   "metadata": {
    "id": "AAJ08wOqRW29"
   },
   "outputs": [],
   "source": [
    "corr_with_loan_status = df.drop(columns=[\"loan_status\"]).corrwith(df[\"loan_status\"]).sort_values()"
   ]
  },
  {
   "cell_type": "code",
   "execution_count": null,
   "metadata": {
    "id": "Hhtr8_M3RsAl"
   },
   "outputs": [],
   "source": [
    "fig = px.bar(x=corr_with_loan_status,\n",
    "             y=corr_with_loan_status.index, \n",
    "             color=corr_with_loan_status,\n",
    "             color_continuous_scale=\"RdBu\",\n",
    "             title=\"Correlation With Loan Status\",\n",
    "             labels={\"x\": \"Correlation\",\n",
    "                     \"y\": \"Feature\",\n",
    "                     \"color\": \"\"},\n",
    "             color_continuous_midpoint=0,\n",
    "             \n",
    "             )\n",
    "fig.show()"
   ]
  },
  {
   "cell_type": "markdown",
   "metadata": {
    "id": "u4k9Gw2tQUv8"
   },
   "source": [
    "# Building The Model"
   ]
  },
  {
   "cell_type": "code",
   "execution_count": null,
   "metadata": {
    "id": "OVLa17lBN9Pp"
   },
   "outputs": [],
   "source": [
    "from sklearn.model_selection import train_test_split"
   ]
  },
  {
   "cell_type": "code",
   "execution_count": null,
   "metadata": {
    "id": "b4SbgPnOQND7"
   },
   "outputs": [],
   "source": [
    "train, test = train_test_split(df, test_size=0.3)"
   ]
  },
  {
   "cell_type": "code",
   "execution_count": null,
   "metadata": {
    "id": "YWLJNWYGQReI"
   },
   "outputs": [],
   "source": [
    "def remove_outliers(data, columns, factor=1.5):\n",
    "    df = data.copy()\n",
    "    for col in columns:\n",
    "        q25, q75 = df[col].quantile(0.25), df[col].quantile(0.75)\n",
    "        iqr = q75 - q25\n",
    "        cut_off = iqr * factor\n",
    "        lower, upper = q25 - cut_off, q75 + cut_off\n",
    "    df = df.query(f\"{col} <= @upper\")\n",
    "    return df"
   ]
  },
  {
   "cell_type": "code",
   "execution_count": null,
   "metadata": {
    "id": "Hc0-KTjKVEyN"
   },
   "outputs": [],
   "source": [
    "train = remove_outliers(train, [\"annual_inc\", \"dti\", \"revol_bal\", \"revol_util\"])"
   ]
  },
  {
   "cell_type": "code",
   "execution_count": null,
   "metadata": {
    "id": "Cf8wKAZtXOkv"
   },
   "outputs": [],
   "source": [
    "X_train = train.drop(columns=[\"loan_status\"])\n",
    "y_train = train[\"loan_status\"]\n",
    "X_test = test.drop(columns=[\"loan_status\"])\n",
    "y_test = test[\"loan_status\"]"
   ]
  },
  {
   "cell_type": "code",
   "execution_count": null,
   "metadata": {
    "id": "7sDfa096XYG0"
   },
   "outputs": [],
   "source": [
    "from sklearn.metrics import confusion_matrix, classification_report, ConfusionMatrixDisplay, RocCurveDisplay\n",
    "from sklearn.model_selection import train_test_split\n",
    "import xgboost as xgb"
   ]
  },
  {
   "cell_type": "code",
   "execution_count": null,
   "metadata": {
    "id": "OAwnrBUYXh7d"
   },
   "outputs": [],
   "source": [
    "def run_xgb():\n",
    "\n",
    "    #ratio = (y_train == 1).mean() * 100\n",
    "    #sample_weight = np.where(y_train == 0, 1, 1 + ratio)\n",
    "\n",
    "    model = xgb.XGBClassifier(use_label_encoder=False,\n",
    "                              #sample_weight=sample_weight,\n",
    "                              #max_depth=7,\n",
    "                              #n_estimators=200,\n",
    "                              #gamma=5,\n",
    "                              #objective=\"binary:hinge\"\n",
    "                              )\n",
    "\n",
    "    model.fit(X_train, y_train)\n",
    "    y_pred = model.predict(X_test)\n",
    "    y_prob = model.predict_proba(X_test)\n",
    "\n",
    "    print(classification_report(y_test, y_pred))\n",
    "\n",
    "    cm = confusion_matrix(y_test, y_pred)\n",
    "    disp_cm = ConfusionMatrixDisplay(confusion_matrix=cm, display_labels=labels)\n",
    "    disp_roc = RocCurveDisplay.from_predictions(y_test, y_prob[:, 1])\n",
    "\n",
    "    disp_cm.plot()\n",
    "    disp_roc.plot()\n",
    "\n",
    "    return model"
   ]
  },
  {
   "cell_type": "markdown",
   "metadata": {
    "id": "zhSS87rcjP9e"
   },
   "source": [
    "# Run & Evaluate Model"
   ]
  },
  {
   "cell_type": "code",
   "execution_count": null,
   "metadata": {
    "id": "q5V0Zvs-Xkyh"
   },
   "outputs": [],
   "source": [
    "xgb_model = run_xgb()"
   ]
  },
  {
   "cell_type": "code",
   "execution_count": null,
   "metadata": {
    "id": "7e9tBrL5e63-"
   },
   "outputs": [],
   "source": [
    "feature_importances = pd.Series(data=xgb_model.feature_importances_, index=X_train.columns).sort_values()\n",
    "fig = px.bar(x=feature_importances,\n",
    "             y=feature_importances.index, \n",
    "             color=corr_with_loan_status,\n",
    "             title=\"Correlation With Loan Status\",\n",
    "             labels={\"x\": \"Feature Importances\",\n",
    "                     \"y\": \"Feature\",\n",
    "                     \"color\": \"\"},\n",
    "             color_continuous_midpoint=0,\n",
    "             )\n",
    "fig.show()"
   ]
  },
  {
   "cell_type": "code",
   "execution_count": null,
   "metadata": {
    "id": "DW8ST7b7XoFx"
   },
   "outputs": [],
   "source": [
    "fig, ax = plt.subplots(figsize=(50, 50))\n",
    "xgb.plot_tree(xgb_model, num_trees=4, ax=ax)\n",
    "fig.show()"
   ]
  },
  {
   "cell_type": "code",
   "execution_count": null,
   "metadata": {
    "id": "YMGLneCRg3JG"
   },
   "outputs": [],
   "source": [
    "fig, ax = plt.subplots(figsize=(12, 8))\n",
    "xgb.plot_importance(xgb_model, ax=ax)\n",
    "fig.show()"
   ]
  },
  {
   "cell_type": "code",
   "execution_count": null,
   "metadata": {
    "id": "8SbKceYej3pT"
   },
   "outputs": [],
   "source": []
  }
 ],
 "metadata": {
  "colab": {
   "collapsed_sections": [],
   "name": "Week 07 Project.ipynb",
   "provenance": []
  },
  "kernelspec": {
   "display_name": "Python 3",
   "language": "python",
   "name": "python3"
  },
  "language_info": {
   "codemirror_mode": {
    "name": "ipython",
    "version": 3
   },
   "file_extension": ".py",
   "mimetype": "text/x-python",
   "name": "python",
   "nbconvert_exporter": "python",
   "pygments_lexer": "ipython3",
   "version": "3.8.8"
  }
 },
 "nbformat": 4,
 "nbformat_minor": 4
}
